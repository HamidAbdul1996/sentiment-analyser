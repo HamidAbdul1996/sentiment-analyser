{
 "cells": [
  {
   "cell_type": "code",
   "execution_count": null,
   "id": "bebebf52",
   "metadata": {},
   "outputs": [],
   "source": [
    "from transformers import AutoTokenizer\n",
    "import os\n",
    "tokenizer = AutoTokenizer.from_pretrained(\"distilbert-base-uncased\")"
   ]
  },
  {
   "cell_type": "code",
   "execution_count": 12,
   "id": "03ddd3cb",
   "metadata": {},
   "outputs": [
    {
     "name": "stdout",
     "output_type": "stream",
     "text": [
      "[{'label': 'POSITIVE', 'score': 0.9998854398727417}]\n"
     ]
    }
   ],
   "source": [
    "from transformers import pipeline\n",
    "\n",
    "classifier = pipeline(\"sentiment-analysis\", model=\"distilbert-base-uncased-finetuned-sst-2-english\")\n",
    "print(classifier(\"I absolutely love this product!\"))\n",
    "\n"
   ]
  },
  {
   "cell_type": "code",
   "execution_count": 26,
   "id": "96e694e3",
   "metadata": {},
   "outputs": [],
   "source": [
    "import pandas as pd\n",
    "pathway = \"/Users/hamidabdul/Library/CloudStorage/OneDrive-Personal/Projects/NLP/Code/sentiment-analyser/data/Reviews.csv\"\n",
    "df = pd.read_csv(pathway).rename(columns={\"Text\":\"text\"})\n",
    "sample = df.sample(1000, random_state=42).copy()\n",
    "  "
   ]
  },
  {
   "cell_type": "code",
   "execution_count": 25,
   "id": "d30fc1d6",
   "metadata": {},
   "outputs": [],
   "source": [
    "clf = pipeline(\n",
    "    \"sentiment-analysis\",\n",
    "    model=\"distilbert-base-uncased-finetuned-sst-2-english\",\n",
    "    tokenizer=\"distilbert-base-uncased-finetuned-sst-2-english\",\n",
    "    device=-1  # set to 0 if you have GPU\n",
    ")\n",
    "\n",
    "preds = clf(batch, truncation=True, padding=True) "
   ]
  },
  {
   "cell_type": "code",
   "execution_count": 27,
   "id": "50ac3d53",
   "metadata": {},
   "outputs": [],
   "source": [
    "# Predict (make sure to truncate/pad)\n",
    "preds = clf(sample[\"text\"].tolist(), truncation=True, padding=True)\n",
    "sample[\"pred_label\"] = [p[\"label\"] for p in preds]\n",
    "sample[\"pred_score\"] = [float(p[\"score\"]) for p in preds]"
   ]
  },
  {
   "cell_type": "code",
   "execution_count": 28,
   "id": "40f501c0",
   "metadata": {},
   "outputs": [
    {
     "name": "stdout",
     "output_type": "stream",
     "text": [
      "Saved → results/reviews_sentiment_sample1k.csv\n"
     ]
    }
   ],
   "source": [
    "output_pathway = \"/Users/hamidabdul/Library/CloudStorage/OneDrive-Personal/Projects/NLP/Code/sentiment-analyser/results/reviews_sentiment_sample1k.csv\"\n",
    "sample.to_csv(output_pathway, index=False)\n",
    "print(\"Saved → results/reviews_sentiment_sample1k.csv\")"
   ]
  },
  {
   "cell_type": "code",
   "execution_count": 29,
   "id": "d92cc067",
   "metadata": {},
   "outputs": [
    {
     "name": "stdout",
     "output_type": "stream",
     "text": [
      "POSITIVE    0.688\n",
      "NEGATIVE    0.312\n",
      "Name: pred_label, dtype: float64\n",
      "                                                     text pred_label  \\\n",
      "481393  I use jar foods when I am on the go or if I di...   NEGATIVE   \n",
      "115627  Lipton Yellow Label is CTC (crush, tear, curl)...   POSITIVE   \n",
      "492103  Waffle Crisp has been my favorite cereal since...   POSITIVE   \n",
      "1533    Good product and decent shipping. However, the...   NEGATIVE   \n",
      "145795  This is an excellent \"everything but the kitch...   NEGATIVE   \n",
      "\n",
      "        pred_score  \n",
      "481393    0.500153  \n",
      "115627    0.511091  \n",
      "492103    0.517810  \n",
      "1533      0.518081  \n",
      "145795    0.535795  \n",
      "                                                     text pred_label  \\\n",
      "544874  These gummy snacks are wonderful! They are in ...   POSITIVE   \n",
      "563828  These cookies are delicious! So soft and flavo...   POSITIVE   \n",
      "426110  Bought this for my daughter who loved flavored...   POSITIVE   \n",
      "540558  Timothy's Midnight Magic coffee is the best K-...   POSITIVE   \n",
      "304693  Excellent taste, quality is great. Love that t...   POSITIVE   \n",
      "\n",
      "        pred_score  \n",
      "544874    0.999886  \n",
      "563828    0.999884  \n",
      "426110    0.999883  \n",
      "540558    0.999882  \n",
      "304693    0.999882  \n"
     ]
    }
   ],
   "source": [
    "print(sample[\"pred_label\"].value_counts(normalize=True).round(3))\n",
    "print(sample.sort_values(\"pred_score\").head(5)[[\"text\",\"pred_label\",\"pred_score\"]])         # least confident\n",
    "print(sample.sort_values(\"pred_score\", ascending=False).head(5)[[\"text\",\"pred_label\",\"pred_score\"]])  # most confident\n"
   ]
  },
  {
   "cell_type": "code",
   "execution_count": 30,
   "id": "58006ff0",
   "metadata": {},
   "outputs": [
    {
     "data": {
      "text/plain": [
       "0.021"
      ]
     },
     "execution_count": 30,
     "metadata": {},
     "output_type": "execute_result"
    }
   ],
   "source": [
    "THRESH = 0.60\n",
    "sample[\"uncertain\"] = sample[\"pred_score\"] < THRESH\n",
    "sample[\"uncertain\"].mean()  # share of low-confidence rows\n"
   ]
  },
  {
   "cell_type": "code",
   "execution_count": null,
   "id": "704e51b6",
   "metadata": {},
   "outputs": [],
   "source": []
  }
 ],
 "metadata": {
  "kernelspec": {
   "display_name": "base",
   "language": "python",
   "name": "python3"
  },
  "language_info": {
   "codemirror_mode": {
    "name": "ipython",
    "version": 3
   },
   "file_extension": ".py",
   "mimetype": "text/x-python",
   "name": "python",
   "nbconvert_exporter": "python",
   "pygments_lexer": "ipython3",
   "version": "3.10.9"
  }
 },
 "nbformat": 4,
 "nbformat_minor": 5
}
