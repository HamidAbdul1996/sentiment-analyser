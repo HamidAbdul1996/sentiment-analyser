{
 "cells": [
  {
   "cell_type": "code",
   "execution_count": null,
   "id": "bebebf52",
   "metadata": {},
   "outputs": [],
   "source": [
    "from transformers import AutoTokenizer\n",
    "import os\n",
    "tokenizer = AutoTokenizer.from_pretrained(\"distilbert-base-uncased\")"
   ]
  },
  {
   "cell_type": "code",
   "execution_count": 12,
   "id": "03ddd3cb",
   "metadata": {},
   "outputs": [
    {
     "name": "stdout",
     "output_type": "stream",
     "text": [
      "[{'label': 'POSITIVE', 'score': 0.9998854398727417}]\n"
     ]
    }
   ],
   "source": [
    "from transformers import pipeline\n",
    "\n",
    "classifier = pipeline(\"sentiment-analysis\", model=\"distilbert-base-uncased-finetuned-sst-2-english\")\n",
    "print(classifier(\"I absolutely love this product!\"))\n",
    "\n"
   ]
  },
  {
   "cell_type": "code",
   "execution_count": 26,
   "id": "96e694e3",
   "metadata": {},
   "outputs": [],
   "source": [
    "import pandas as pd\n",
    "pathway = \"/Users/hamidabdul/Library/CloudStorage/OneDrive-Personal/Projects/NLP/Code/sentiment-analyser/data/Reviews.csv\"\n",
    "df = pd.read_csv(pathway).rename(columns={\"Text\":\"text\"})\n",
    "sample = df.sample(1000, random_state=42).copy()\n",
    "  "
   ]
  },
  {
   "cell_type": "code",
   "execution_count": 25,
   "id": "d30fc1d6",
   "metadata": {},
   "outputs": [],
   "source": [
    "clf = pipeline(\n",
    "    \"sentiment-analysis\",\n",
    "    model=\"distilbert-base-uncased-finetuned-sst-2-english\",\n",
    "    tokenizer=\"distilbert-base-uncased-finetuned-sst-2-english\",\n",
    "    device=-1  # set to 0 if you have GPU\n",
    ")\n",
    "\n",
    "preds = clf(batch, truncation=True, padding=True) "
   ]
  },
  {
   "cell_type": "code",
   "execution_count": 27,
   "id": "50ac3d53",
   "metadata": {},
   "outputs": [],
   "source": [
    "# Predict (make sure to truncate/pad)\n",
    "preds = clf(sample[\"text\"].tolist(), truncation=True, padding=True)\n",
    "sample[\"pred_label\"] = [p[\"label\"] for p in preds]\n",
    "sample[\"pred_score\"] = [float(p[\"score\"]) for p in preds]"
   ]
  },
  {
   "cell_type": "code",
   "execution_count": 28,
   "id": "40f501c0",
   "metadata": {},
   "outputs": [
    {
     "name": "stdout",
     "output_type": "stream",
     "text": [
      "Saved → results/reviews_sentiment_sample1k.csv\n"
     ]
    }
   ],
   "source": [
    "output_pathway = \"/Users/hamidabdul/Library/CloudStorage/OneDrive-Personal/Projects/NLP/Code/sentiment-analyser/results/reviews_sentiment_sample1k.csv\"\n",
    "sample.to_csv(output_pathway, index=False)\n",
    "print(\"Saved → results/reviews_sentiment_sample1k.csv\")"
   ]
  },
  {
   "cell_type": "code",
   "execution_count": 29,
   "id": "d92cc067",
   "metadata": {},
   "outputs": [
    {
     "name": "stdout",
     "output_type": "stream",
     "text": [
      "POSITIVE    0.688\n",
      "NEGATIVE    0.312\n",
      "Name: pred_label, dtype: float64\n",
      "                                                     text pred_label  \\\n",
      "481393  I use jar foods when I am on the go or if I di...   NEGATIVE   \n",
      "115627  Lipton Yellow Label is CTC (crush, tear, curl)...   POSITIVE   \n",
      "492103  Waffle Crisp has been my favorite cereal since...   POSITIVE   \n",
      "1533    Good product and decent shipping. However, the...   NEGATIVE   \n",
      "145795  This is an excellent \"everything but the kitch...   NEGATIVE   \n",
      "\n",
      "        pred_score  \n",
      "481393    0.500153  \n",
      "115627    0.511091  \n",
      "492103    0.517810  \n",
      "1533      0.518081  \n",
      "145795    0.535795  \n",
      "                                                     text pred_label  \\\n",
      "544874  These gummy snacks are wonderful! They are in ...   POSITIVE   \n",
      "563828  These cookies are delicious! So soft and flavo...   POSITIVE   \n",
      "426110  Bought this for my daughter who loved flavored...   POSITIVE   \n",
      "540558  Timothy's Midnight Magic coffee is the best K-...   POSITIVE   \n",
      "304693  Excellent taste, quality is great. Love that t...   POSITIVE   \n",
      "\n",
      "        pred_score  \n",
      "544874    0.999886  \n",
      "563828    0.999884  \n",
      "426110    0.999883  \n",
      "540558    0.999882  \n",
      "304693    0.999882  \n"
     ]
    }
   ],
   "source": [
    "print(sample[\"pred_label\"].value_counts(normalize=True).round(3))\n",
    "print(sample.sort_values(\"pred_score\").head(5)[[\"text\",\"pred_label\",\"pred_score\"]])         # least confident\n",
    "print(sample.sort_values(\"pred_score\", ascending=False).head(5)[[\"text\",\"pred_label\",\"pred_score\"]])  # most confident\n"
   ]
  },
  {
   "cell_type": "code",
   "execution_count": 30,
   "id": "58006ff0",
   "metadata": {},
   "outputs": [
    {
     "data": {
      "text/plain": [
       "0.021"
      ]
     },
     "execution_count": 30,
     "metadata": {},
     "output_type": "execute_result"
    }
   ],
   "source": [
    "THRESH = 0.60\n",
    "sample[\"uncertain\"] = sample[\"pred_score\"] < THRESH\n",
    "sample[\"uncertain\"].mean()  # share of low-confidence rows\n"
   ]
  },
  {
   "cell_type": "markdown",
   "id": "704e51b6",
   "metadata": {},
   "source": [
    " # Baseline model"
   ]
  },
  {
   "cell_type": "code",
   "execution_count": 31,
   "id": "5629ae6d",
   "metadata": {},
   "outputs": [],
   "source": [
    "from sklearn.model_selection import train_test_split\n",
    "from sklearn.feature_extraction.text import TfidfVectorizer\n",
    "from sklearn.linear_model import LogisticRegression\n",
    "from sklearn.pipeline import Pipeline\n",
    "from sklearn.metrics import classification_report, accuracy_score"
   ]
  },
  {
   "cell_type": "code",
   "execution_count": 47,
   "id": "153e49fc",
   "metadata": {},
   "outputs": [],
   "source": [
    "def map_score(s):\n",
    "    if s in [1, 2]:\n",
    "        return 0  # Negative\n",
    "    elif s == 3:\n",
    "        return 1  # Neutral\n",
    "    elif s in [4, 5]:\n",
    "        return 2  # Positive\n",
    "\n",
    "df[\"label\"] = df[\"Score\"].apply(map_score)\n",
    "\n",
    "label2name = {0:\"NEG\", 1:\"NEU\", 2:\"POS\"}\n",
    "df[\"label_name\"] = df[\"label\"].map(label2name)"
   ]
  },
  {
   "cell_type": "code",
   "execution_count": 48,
   "id": "cba3dace",
   "metadata": {},
   "outputs": [
    {
     "name": "stdout",
     "output_type": "stream",
     "text": [
      "(568454, 12)\n",
      "   Id   ProductId          UserId                      ProfileName  \\\n",
      "0   1  B001E4KFG0  A3SGXH7AUHU8GW                       delmartian   \n",
      "1   2  B00813GRG4  A1D87F6ZCVE5NK                           dll pa   \n",
      "2   3  B000LQOCH0   ABXLMWJIXXAIN  Natalia Corres \"Natalia Corres\"   \n",
      "\n",
      "   HelpfulnessNumerator  HelpfulnessDenominator  Score        Time  \\\n",
      "0                     1                       1      5  1303862400   \n",
      "1                     0                       0      1  1346976000   \n",
      "2                     1                       1      4  1219017600   \n",
      "\n",
      "                 Summary                                               text  \\\n",
      "0  Good Quality Dog Food  I have bought several of the Vitality canned d...   \n",
      "1      Not as Advertised  Product arrived labeled as Jumbo Salted Peanut...   \n",
      "2  \"Delight\" says it all  This is a confection that has been around a fe...   \n",
      "\n",
      "   label label_name  \n",
      "0      2        POS  \n",
      "1      0        NEG  \n",
      "2      2        POS  \n",
      "Summary                   0.000047\n",
      "ProfileName               0.000028\n",
      "Id                        0.000000\n",
      "ProductId                 0.000000\n",
      "UserId                    0.000000\n",
      "HelpfulnessNumerator      0.000000\n",
      "HelpfulnessDenominator    0.000000\n",
      "Score                     0.000000\n",
      "Time                      0.000000\n",
      "text                      0.000000\n",
      "dtype: float64\n",
      "174875 duplicate texts\n"
     ]
    }
   ],
   "source": [
    "print(df.shape)\n",
    "print(df.head(3))\n",
    "print(df.isna().mean().sort_values(ascending=False).head(10))\n",
    "print(df.duplicated(subset=[\"text\"]).sum(), \"duplicate texts\")\n",
    "\n",
    "# drop exact duplicate texts if you want\n",
    "# df = df.drop_duplicates(subset=[\"text\"]).reset_index(drop=True)\n"
   ]
  },
  {
   "cell_type": "code",
   "execution_count": 49,
   "id": "e349d071",
   "metadata": {},
   "outputs": [
    {
     "name": "stdout",
     "output_type": "stream",
     "text": [
      "NEG     82037\n",
      "NEU     42640\n",
      "POS    443777\n",
      "Name: label_name, dtype: int64 \n",
      "\n",
      "proportions:\n",
      " NEG    0.144\n",
      "NEU    0.075\n",
      "POS    0.781\n",
      "Name: label_name, dtype: float64\n"
     ]
    },
    {
     "data": {
      "image/png": "[encoded data removed]",
      "text/plain": [
       "<Figure size 640x480 with 1 Axes>"
      ]
     },
     "metadata": {},
     "output_type": "display_data"
    }
   ],
   "source": [
    "counts = df[\"label_name\"].value_counts().reindex([\"NEG\",\"NEU\",\"POS\"]).fillna(0).astype(int)\n",
    "print(counts, \"\\n\\nproportions:\\n\", (counts / counts.sum()).round(3))\n",
    "\n",
    "import matplotlib.pyplot as plt\n",
    "plt.figure()\n",
    "counts.plot(kind=\"bar\")\n",
    "plt.title(\"Class distribution\")\n",
    "plt.ylabel(\"Count\")\n",
    "plt.xlabel(\"Label\")\n",
    "plt.show()\n"
   ]
  },
  {
   "cell_type": "code",
   "execution_count": 50,
   "id": "8de94018",
   "metadata": {},
   "outputs": [
    {
     "name": "stdout",
     "output_type": "stream",
     "text": [
      "        n_chars   n_words\n",
      "count  568454.0  568454.0\n",
      "mean      436.2      80.3\n",
      "std       445.3      79.5\n",
      "min        12.0       3.0\n",
      "50%       302.0      56.0\n",
      "90%       877.0     161.0\n",
      "95%      1202.0     218.0\n",
      "99%      2166.0     388.0\n",
      "max     21409.0    3432.0\n"
     ]
    },
    {
     "data": {
      "image/png": "[encoded data removed]",
      "text/plain": [
       "<Figure size 640x480 with 1 Axes>"
      ]
     },
     "metadata": {},
     "output_type": "display_data"
    },
    {
     "name": "stdout",
     "output_type": "stream",
     "text": [
      "NEG median words: 64\n",
      "NEU median words: 70\n",
      "POS median words: 54\n"
     ]
    }
   ],
   "source": [
    "df[\"n_chars\"] = df[\"text\"].str.len()\n",
    "df[\"n_words\"] = df[\"text\"].str.split().apply(len)\n",
    "\n",
    "print(df[[\"n_chars\",\"n_words\"]].describe(percentiles=[.5,.9,.95,.99]).round(1))\n",
    "\n",
    "plt.figure()\n",
    "df[\"n_words\"].clip(upper=500).hist(bins=50)   # clip to tidy very long tails\n",
    "plt.title(\"Word count distribution (clipped at 500)\")\n",
    "plt.xlabel(\"# words\")\n",
    "plt.ylabel(\"Count\")\n",
    "plt.show()\n",
    "\n",
    "# By class (quick glance)\n",
    "for k,v in label2name.items():\n",
    "    sub = df[df[\"label\"]==k][\"n_words\"].clip(upper=500)\n",
    "    print(v, \"median words:\", int(sub.median()))\n"
   ]
  },
  {
   "cell_type": "code",
   "execution_count": 39,
   "id": "2cf2c43f",
   "metadata": {},
   "outputs": [],
   "source": [
    "df_sample = df.sample(10000, random_state=42)"
   ]
  },
  {
   "cell_type": "code",
   "execution_count": 40,
   "id": "8b6ed21c",
   "metadata": {},
   "outputs": [],
   "source": [
    "# 4) Split\n",
    "X_train, X_val, y_train, y_val = train_test_split(\n",
    "    df_sample[\"text\"], df_sample[\"label\"],\n",
    "    test_size=0.2, stratify=df_sample[\"label\"], random_state=42\n",
    ")"
   ]
  },
  {
   "cell_type": "code",
   "execution_count": 41,
   "id": "6c69094e",
   "metadata": {},
   "outputs": [
    {
     "data": {
      "text/html": [
       "<style>#sk-container-id-2 {color: black;background-color: white;}#sk-container-id-2 pre{padding: 0;}#sk-container-id-2 div.sk-toggleable {background-color: white;}#sk-container-id-2 label.sk-toggleable__label {cursor: pointer;display: block;width: 100%;margin-bottom: 0;padding: 0.3em;box-sizing: border-box;text-align: center;}#sk-container-id-2 label.sk-toggleable__label-arrow:before {content: \"▸\";float: left;margin-right: 0.25em;color: #696969;}#sk-container-id-2 label.sk-toggleable__label-arrow:hover:before {color: black;}#sk-container-id-2 div.sk-estimator:hover label.sk-toggleable__label-arrow:before {color: black;}#sk-container-id-2 div.sk-toggleable__content {max-height: 0;max-width: 0;overflow: hidden;text-align: left;background-color: #f0f8ff;}#sk-container-id-2 div.sk-toggleable__content pre {margin: 0.2em;color: black;border-radius: 0.25em;background-color: #f0f8ff;}#sk-container-id-2 input.sk-toggleable__control:checked~div.sk-toggleable__content {max-height: 200px;max-width: 100%;overflow: auto;}#sk-container-id-2 input.sk-toggleable__control:checked~label.sk-toggleable__label-arrow:before {content: \"▾\";}#sk-container-id-2 div.sk-estimator input.sk-toggleable__control:checked~label.sk-toggleable__label {background-color: #d4ebff;}#sk-container-id-2 div.sk-label input.sk-toggleable__control:checked~label.sk-toggleable__label {background-color: #d4ebff;}#sk-container-id-2 input.sk-hidden--visually {border: 0;clip: rect(1px 1px 1px 1px);clip: rect(1px, 1px, 1px, 1px);height: 1px;margin: -1px;overflow: hidden;padding: 0;position: absolute;width: 1px;}#sk-container-id-2 div.sk-estimator {font-family: monospace;background-color: #f0f8ff;border: 1px dotted black;border-radius: 0.25em;box-sizing: border-box;margin-bottom: 0.5em;}#sk-container-id-2 div.sk-estimator:hover {background-color: #d4ebff;}#sk-container-id-2 div.sk-parallel-item::after {content: \"\";width: 100%;border-bottom: 1px solid gray;flex-grow: 1;}#sk-container-id-2 div.sk-label:hover label.sk-toggleable__label {background-color: #d4ebff;}#sk-container-id-2 div.sk-serial::before {content: \"\";position: absolute;border-left: 1px solid gray;box-sizing: border-box;top: 0;bottom: 0;left: 50%;z-index: 0;}#sk-container-id-2 div.sk-serial {display: flex;flex-direction: column;align-items: center;background-color: white;padding-right: 0.2em;padding-left: 0.2em;position: relative;}#sk-container-id-2 div.sk-item {position: relative;z-index: 1;}#sk-container-id-2 div.sk-parallel {display: flex;align-items: stretch;justify-content: center;background-color: white;position: relative;}#sk-container-id-2 div.sk-item::before, #sk-container-id-2 div.sk-parallel-item::before {content: \"\";position: absolute;border-left: 1px solid gray;box-sizing: border-box;top: 0;bottom: 0;left: 50%;z-index: -1;}#sk-container-id-2 div.sk-parallel-item {display: flex;flex-direction: column;z-index: 1;position: relative;background-color: white;}#sk-container-id-2 div.sk-parallel-item:first-child::after {align-self: flex-end;width: 50%;}#sk-container-id-2 div.sk-parallel-item:last-child::after {align-self: flex-start;width: 50%;}#sk-container-id-2 div.sk-parallel-item:only-child::after {width: 0;}#sk-container-id-2 div.sk-dashed-wrapped {border: 1px dashed gray;margin: 0 0.4em 0.5em 0.4em;box-sizing: border-box;padding-bottom: 0.4em;background-color: white;}#sk-container-id-2 div.sk-label label {font-family: monospace;font-weight: bold;display: inline-block;line-height: 1.2em;}#sk-container-id-2 div.sk-label-container {text-align: center;}#sk-container-id-2 div.sk-container {/* jupyter's `normalize.less` sets `[hidden] { display: none; }` but bootstrap.min.css set `[hidden] { display: none !important; }` so we also need the `!important` here to be able to override the default hidden behavior on the sphinx rendered scikit-learn.org. See: https://github.com/scikit-learn/scikit-learn/issues/21755 */display: inline-block !important;position: relative;}#sk-container-id-2 div.sk-text-repr-fallback {display: none;}</style><div id=\"sk-container-id-2\" class=\"sk-top-container\"><div class=\"sk-text-repr-fallback\"><pre>Pipeline(steps=[(&#x27;tfidf&#x27;,\n",
       "                 TfidfVectorizer(max_features=50000, ngram_range=(1, 2))),\n",
       "                (&#x27;clf&#x27;,\n",
       "                 LogisticRegression(class_weight=&#x27;balanced&#x27;, max_iter=300,\n",
       "                                    n_jobs=-1))])</pre><b>In a Jupyter environment, please rerun this cell to show the HTML representation or trust the notebook. <br />On GitHub, the HTML representation is unable to render, please try loading this page with nbviewer.org.</b></div><div class=\"sk-container\" hidden><div class=\"sk-item sk-dashed-wrapped\"><div class=\"sk-label-container\"><div class=\"sk-label sk-toggleable\"><input class=\"sk-toggleable__control sk-hidden--visually\" id=\"sk-estimator-id-4\" type=\"checkbox\" ><label for=\"sk-estimator-id-4\" class=\"sk-toggleable__label sk-toggleable__label-arrow\">Pipeline</label><div class=\"sk-toggleable__content\"><pre>Pipeline(steps=[(&#x27;tfidf&#x27;,\n",
       "                 TfidfVectorizer(max_features=50000, ngram_range=(1, 2))),\n",
       "                (&#x27;clf&#x27;,\n",
       "                 LogisticRegression(class_weight=&#x27;balanced&#x27;, max_iter=300,\n",
       "                                    n_jobs=-1))])</pre></div></div></div><div class=\"sk-serial\"><div class=\"sk-item\"><div class=\"sk-estimator sk-toggleable\"><input class=\"sk-toggleable__control sk-hidden--visually\" id=\"sk-estimator-id-5\" type=\"checkbox\" ><label for=\"sk-estimator-id-5\" class=\"sk-toggleable__label sk-toggleable__label-arrow\">TfidfVectorizer</label><div class=\"sk-toggleable__content\"><pre>TfidfVectorizer(max_features=50000, ngram_range=(1, 2))</pre></div></div></div><div class=\"sk-item\"><div class=\"sk-estimator sk-toggleable\"><input class=\"sk-toggleable__control sk-hidden--visually\" id=\"sk-estimator-id-6\" type=\"checkbox\" ><label for=\"sk-estimator-id-6\" class=\"sk-toggleable__label sk-toggleable__label-arrow\">LogisticRegression</label><div class=\"sk-toggleable__content\"><pre>LogisticRegression(class_weight=&#x27;balanced&#x27;, max_iter=300, n_jobs=-1)</pre></div></div></div></div></div></div></div>"
      ],
      "text/plain": [
       "Pipeline(steps=[('tfidf',\n",
       "                 TfidfVectorizer(max_features=50000, ngram_range=(1, 2))),\n",
       "                ('clf',\n",
       "                 LogisticRegression(class_weight='balanced', max_iter=300,\n",
       "                                    n_jobs=-1))])"
      ]
     },
     "execution_count": 41,
     "metadata": {},
     "output_type": "execute_result"
    }
   ],
   "source": [
    "# 5) Baseline pipeline\n",
    "pipe = Pipeline([\n",
    "    (\"tfidf\", TfidfVectorizer(max_features=50000, ngram_range=(1,2))),\n",
    "    (\"clf\", LogisticRegression(max_iter=300, class_weight=\"balanced\", n_jobs=-1))\n",
    "])\n",
    "pipe.fit(X_train, y_train)"
   ]
  },
  {
   "cell_type": "code",
   "execution_count": 42,
   "id": "b3bfe7fb",
   "metadata": {},
   "outputs": [
    {
     "name": "stdout",
     "output_type": "stream",
     "text": [
      "Baseline accuracy: 0.813\n",
      "              precision    recall  f1-score   support\n",
      "\n",
      "         NEG      0.603     0.657     0.629       280\n",
      "         NEU      0.283     0.360     0.317       150\n",
      "         POS      0.923     0.884     0.903      1570\n",
      "\n",
      "    accuracy                          0.813      2000\n",
      "   macro avg      0.603     0.634     0.616      2000\n",
      "weighted avg      0.830     0.813     0.821      2000\n",
      "\n"
     ]
    }
   ],
   "source": [
    "# 6) Evaluate\n",
    "pred = pipe.predict(X_val)\n",
    "print(\"Baseline accuracy:\", accuracy_score(y_val, pred))\n",
    "print(classification_report(y_val, pred, target_names=[\"NEG\",\"NEU\",\"POS\"], digits=3))"
   ]
  },
  {
   "cell_type": "code",
   "execution_count": 43,
   "id": "481aa4bc",
   "metadata": {},
   "outputs": [
    {
     "data": {
      "application/vnd.microsoft.datawrangler.viewer.v0+json": {
       "columns": [
        {
         "name": "index",
         "rawType": "int64",
         "type": "integer"
        },
        {
         "name": "label",
         "rawType": "float64",
         "type": "float"
        }
       ],
       "ref": "2aac2e69-8bd2-41e0-be43-f0e61d45f6e8",
       "rows": [
        [
         "2",
         "0.7852"
        ],
        [
         "0",
         "0.1398"
        ],
        [
         "1",
         "0.075"
        ]
       ],
       "shape": {
        "columns": 1,
        "rows": 3
       }
      },
      "text/plain": [
       "2    0.7852\n",
       "0    0.1398\n",
       "1    0.0750\n",
       "Name: label, dtype: float64"
      ]
     },
     "execution_count": 43,
     "metadata": {},
     "output_type": "execute_result"
    }
   ],
   "source": [
    "df_sample[\"label\"].value_counts(normalize=True)\n",
    "\n",
    "\n"
   ]
  },
  {
   "cell_type": "code",
   "execution_count": 44,
   "id": "d36d2c08",
   "metadata": {},
   "outputs": [
    {
     "data": {
      "image/png": "[encoded data removed]",
      "text/plain": [
       "<Figure size 640x480 with 2 Axes>"
      ]
     },
     "metadata": {},
     "output_type": "display_data"
    }
   ],
   "source": [
    "from sklearn.metrics import confusion_matrix, ConfusionMatrixDisplay\n",
    "import matplotlib.pyplot as plt\n",
    "\n",
    "cm = confusion_matrix(y_val, pred)\n",
    "disp = ConfusionMatrixDisplay(cm, display_labels=[\"NEG\",\"NEU\",\"POS\"])\n",
    "disp.plot(cmap=\"Blues\", values_format=\"d\")\n",
    "plt.show()\n"
   ]
  },
  {
   "cell_type": "code",
   "execution_count": 45,
   "id": "5f4c9689",
   "metadata": {},
   "outputs": [
    {
     "name": "stdout",
     "output_type": "stream",
     "text": [
      "                                                     text  true  pred\n",
      "394183  This gluten free cereal is pretty good. It has...     2     1\n",
      "291382  I received this product from a friend of mine ...     2     1\n",
      "6089    Packed poorly in shipping and a few had the se...     2     0\n",
      "99809   This is a nice change from using powdered stev...     2     0\n",
      "524107  I thought that this popcorn would taste like a...     2     1\n",
      "352130  I have one cup a day and it really decreases m...     2     1\n",
      "180780  I think Snapple makes great products. I especi...     2     1\n",
      "430608  This hot sauce has become a staple in my kitch...     2     1\n",
      "157807  Still in process of narrowing down my personal...     2     1\n",
      "97597   Very pleased with this. Good lavender flavor, ...     2     1\n"
     ]
    }
   ],
   "source": [
    "val_df = pd.DataFrame({\"text\": X_val, \"true\": y_val, \"pred\": pred})\n",
    "mistakes = val_df[val_df[\"true\"] != val_df[\"pred\"]]\n",
    "print(mistakes.sample(10, random_state=42))\n"
   ]
  },
  {
   "cell_type": "code",
   "execution_count": 46,
   "id": "2e0cfb5a",
   "metadata": {},
   "outputs": [
    {
     "name": "stdout",
     "output_type": "stream",
     "text": [
      "Naive Bayes accuracy: 0.785\n",
      "              precision    recall  f1-score   support\n",
      "\n",
      "         NEG      0.000     0.000     0.000       280\n",
      "         NEU      0.000     0.000     0.000       150\n",
      "         POS      0.785     1.000     0.880      1570\n",
      "\n",
      "    accuracy                          0.785      2000\n",
      "   macro avg      0.262     0.333     0.293      2000\n",
      "weighted avg      0.616     0.785     0.690      2000\n",
      "\n"
     ]
    },
    {
     "name": "stderr",
     "output_type": "stream",
     "text": [
      "/Users/hamidabdul/anaconda3/lib/python3.10/site-packages/sklearn/metrics/_classification.py:1344: UndefinedMetricWarning: Precision and F-score are ill-defined and being set to 0.0 in labels with no predicted samples. Use `zero_division` parameter to control this behavior.\n",
      "  _warn_prf(average, modifier, msg_start, len(result))\n",
      "/Users/hamidabdul/anaconda3/lib/python3.10/site-packages/sklearn/metrics/_classification.py:1344: UndefinedMetricWarning: Precision and F-score are ill-defined and being set to 0.0 in labels with no predicted samples. Use `zero_division` parameter to control this behavior.\n",
      "  _warn_prf(average, modifier, msg_start, len(result))\n",
      "/Users/hamidabdul/anaconda3/lib/python3.10/site-packages/sklearn/metrics/_classification.py:1344: UndefinedMetricWarning: Precision and F-score are ill-defined and being set to 0.0 in labels with no predicted samples. Use `zero_division` parameter to control this behavior.\n",
      "  _warn_prf(average, modifier, msg_start, len(result))\n"
     ]
    }
   ],
   "source": [
    "from sklearn.naive_bayes import MultinomialNB\n",
    "from sklearn.pipeline import Pipeline\n",
    "from sklearn.metrics import classification_report, accuracy_score\n",
    "\n",
    "pipe_nb = Pipeline([\n",
    "    (\"tfidf\", TfidfVectorizer(max_features=50000, ngram_range=(1,2))),\n",
    "    (\"nb\", MultinomialNB())\n",
    "])\n",
    "\n",
    "pipe_nb.fit(X_train, y_train)\n",
    "pred_nb = pipe_nb.predict(X_val)\n",
    "\n",
    "print(\"Naive Bayes accuracy:\", accuracy_score(y_val, pred_nb))\n",
    "print(classification_report(y_val, pred_nb, target_names=[\"NEG\",\"NEU\",\"POS\"], digits=3))\n"
   ]
  },
  {
   "cell_type": "code",
   "execution_count": null,
   "id": "35ed445b",
   "metadata": {},
   "outputs": [],
   "source": []
  }
 ],
 "metadata": {
  "kernelspec": {
   "display_name": "base",
   "language": "python",
   "name": "python3"
  },
  "language_info": {
   "codemirror_mode": {
    "name": "ipython",
    "version": 3
   },
   "file_extension": ".py",
   "mimetype": "text/x-python",
   "name": "python",
   "nbconvert_exporter": "python",
   "pygments_lexer": "ipython3",
   "version": "3.10.9"
  }
 },
 "nbformat": 4,
 "nbformat_minor": 5
}
